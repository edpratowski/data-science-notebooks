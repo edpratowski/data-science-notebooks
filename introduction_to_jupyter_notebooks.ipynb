{
  "nbformat": 4,
  "nbformat_minor": 0,
  "metadata": {
    "colab": {
      "name": "introduction_to_jupyter_notebooks.ipynb",
      "provenance": [],
      "collapsed_sections": [
        "1Qduolw0BOsJ",
        "wAlhFCkrblmp",
        "ZMUVlSiMdoZ-",
        "9JI8rsZae0C5",
        "mXsYcXNgn_Mc",
        "HGTK-nC0ma9J",
        "s7BhqbiOgSVV",
        "L3bbfJGrYWwt",
        "ztbYmNSJbcZF",
        "Zoa8DDaRbh3e",
        "QDctaB0xdRiV",
        "eucSg7mm4bMj",
        "IgXfnu3F4fF1",
        "Mcreu4IYzJek",
        "R2gdiadHzNwN",
        "FEP_QDGEzUHB"
      ],
      "authorship_tag": "ABX9TyPUlGn0EwHg1KnQDsyGRSEy"
    },
    "kernelspec": {
      "name": "python3",
      "display_name": "Python 3"
    },
    "language_info": {
      "name": "python"
    }
  },
  "cells": [
    {
      "cell_type": "markdown",
      "metadata": {
        "id": "EsfO5Q92tL-6"
      },
      "source": [
        "[![freeCodeCamp](https://cdn.freecodecamp.org/testable-projects-fcc/images/fcc_secondary.svg)](https://freecodecamp.org/)"
      ]
    },
    {
      "cell_type": "markdown",
      "metadata": {
        "id": "szp5flp1fA8-"
      },
      "source": [
        "# &darr; **Do this first** &darr;\n",
        "Copy this notebook to your own account by clicking the `File` button at the top, and then click `Save a copy in Drive`. You will need to be logged in to google."
      ]
    },
    {
      "cell_type": "markdown",
      "metadata": {
        "id": "1Qduolw0BOsJ"
      },
      "source": [
        "# &larr; Step 1 - Click the caret icon to expand this lesson"
      ]
    },
    {
      "cell_type": "markdown",
      "metadata": {
        "id": "pcNNFzVjQcfV"
      },
      "source": [
        "It said there are \"*2 hidden cells*\" in this section. This is the first cell, it's a text cell. Follow the comments in the code cell below to run the tests and complete the lesson."
      ]
    },
    {
      "cell_type": "code",
      "metadata": {
        "id": "jWe9p9SgBZk-"
      },
      "source": [
        "# <-- Click the play button to run this code cell\n",
        "# When you see 'All Tests Passed!', move on to the next lesson.\n",
        "\n",
        "\n",
        "# Do not change this line or below\n",
        "from IPython.display import HTML;HTML('''<br><div style=\"font-family:Monospace\"><span id=\"message\"></span></div><script type=\"text/javascript\">const el=document.getElementById('message');el.style.color='#005a00';el.innerText+='All Tests Passed!'</script>''')"
      ],
      "execution_count": null,
      "outputs": []
    },
    {
      "cell_type": "markdown",
      "metadata": {
        "id": "wAlhFCkrblmp"
      },
      "source": [
        "# Step 2 - Print Output"
      ]
    },
    {
      "cell_type": "markdown",
      "metadata": {
        "id": "rxBeTBOncBB8"
      },
      "source": [
        "Code cells can run Python code. You can print text to the output area with `print('text')`. Change the `print` statement in the code cell below so that it prints `Hello Notebooks`. Run the cell when you are done to see the output and run the tests."
      ]
    },
    {
      "cell_type": "code",
      "metadata": {
        "id": "gqsoOHp9cCHX"
      },
      "source": [
        "# When you see 'All Tests Passed!', move on to the next lesson.\n",
        "# If there's an error, fix your code and run this cell again.\n",
        "\n",
        "print('text')\n",
        "\n",
        "\n",
        "# Do not change this line or below\n",
        "from IPython.display import HTML;import re;code = In[-1].split('# Do not change this line or below')[0];assert(re.search('print\\s*\\(\\s*\\'Hello Notebooks\\'\\s*\\)', code)), \"You should use `print('Hello Notebooks')` in your code\";HTML('''<br><div style=\"font-family:Monospace\"><span style=\"color: #b30000\"id=\"error\"></span><span id=\"message\"></span></div><script type=\"text/javascript\">const output=document.getElementsByTagName('pre')[0];function appendMessage(message, color){const el1=document.getElementById('error');const el2=document.getElementById('message');if(color === '#000')el1.innerText+='AssertionError';el2.style.color=color;el2.innerText+=message}try{if(!/^Hello Notebooks\\s*$/.test(output.innerText))throw\": Your code should only print `Hello Notebooks`\";appendMessage('All Tests Passed!','#005a00')}catch(e){appendMessage(e,'#000')}</script>''')"
      ],
      "execution_count": null,
      "outputs": []
    },
    {
      "cell_type": "markdown",
      "metadata": {
        "id": "ZMUVlSiMdoZ-"
      },
      "source": [
        "# Step 3 - Add Two Numbers"
      ]
    },
    {
      "cell_type": "markdown",
      "metadata": {
        "id": "5pfZ_uIkd1cl"
      },
      "source": [
        "At the top right of a cell that is selected, there are options. You won't ever need to use any of them for these lessons, so feel free to ignore them.\n",
        "\n",
        "Change the `print` statement in the cell below, so it prints the sum of `28` and `14` using the `+` operator. Run your code cell below after completing the instructions."
      ]
    },
    {
      "cell_type": "code",
      "metadata": {
        "id": "z-0aOXZGdwlA"
      },
      "source": [
        "# Fix any errors and run the cell until you see 'All Tests Passed!'\n",
        "\n",
        "print(42)\n",
        "\n",
        "\n",
        "# Do not change this line or below\n",
        "from IPython.display import HTML;import re;code = In[-1].split('# Do not change this line or below')[0];assert(re.search('print\\s*\\(\\s*28\\s*\\+\\s*14\\s*\\)', code)), \"You should use `print(28 + 14)` in your code\";HTML('''<br><div style=\"font-family:Monospace\"><span style=\"color: #b30000\"id=\"error\"></span><span id=\"message\"></span></div><script type=\"text/javascript\">const output=document.getElementsByTagName('pre')[0];function appendMessage(message, color){const el1=document.getElementById('error');const el2=document.getElementById('message');if(color === '#000')el1.innerText+='Assertion Error';el2.style.color=color;el2.innerText+=message}try{if(!/^42\\s*$/.test(output.innerText))throw\": Your code should only print `42`\";appendMessage('All Tests Passed!','#005a00')}catch(e){appendMessage(e,'#000')}</script>''')"
      ],
      "execution_count": null,
      "outputs": []
    },
    {
      "cell_type": "markdown",
      "metadata": {
        "id": "9JI8rsZae0C5"
      },
      "source": [
        "# Step 4 - Create Two Variables"
      ]
    },
    {
      "cell_type": "markdown",
      "metadata": {
        "id": "zt6gsZoModDa"
      },
      "source": [
        "When a cell is selected, you can press `enter` to get into \"edit mode\" and `escape` to get out of \"edit mode\". You should only edit cells when instructed.\n",
        "\n",
        "You can create a Python variable like this: `variable_name = value`. Create `a` and `b` variables in the cell below. Set `a` to `25` and `b` to `81`. Run the cell when you are done to run the tests."
      ]
    },
    {
      "cell_type": "code",
      "metadata": {
        "id": "I9jReZyJgPEB"
      },
      "source": [
        "from IPython import get_ipython;get_ipython().magic('reset -sf')\n",
        "# Do not change above this line\n",
        "\n",
        "\n",
        "\n",
        "\n",
        "# Do not change this line or below\n",
        "from IPython.display import HTML;assert 'a' in locals(), \"You should create an 'a' variable\";assert (a == 25), \"'a' should be set to '25' with 'a = 25'\";assert 'b' in locals(), \"You should create a 'b' variable\";assert (b == 81), \"'b' should be set to '81' with 'b = 81'\";HTML('''<br><div style=\"font-family:Monospace\"><span id=\"message\"></span></div><script type=\"text/javascript\">const el=document.getElementById('message');el.style.color='#005a00';el.innerText+='All Tests Passed!'</script>''')"
      ],
      "execution_count": null,
      "outputs": []
    },
    {
      "cell_type": "markdown",
      "metadata": {
        "id": "mXsYcXNgn_Mc"
      },
      "source": [
        "# Step 5 - Add Two Variables"
      ]
    },
    {
      "cell_type": "markdown",
      "metadata": {
        "id": "7K611mWhwJy7"
      },
      "source": [
        "If you are done with a lesson, click the arrow by the title to collapse it.\n",
        "\n",
        "Add a `print` statement to the cell below that adds the two variables together. Run the cell when you are done."
      ]
    },
    {
      "cell_type": "code",
      "metadata": {
        "id": "lKgQvQDGwKhT"
      },
      "source": [
        "a = 25\n",
        "b = 81\n",
        "# Do not change above this line\n",
        "\n",
        "\n",
        "\n",
        "# Do not change this line or below\n",
        "from IPython.display import HTML;import re;code = In[-1].split('# Do not change this line or below')[0];assert(re.search('print\\s*\\(.*\\)', code)), \"You should use a `print()` statment in your code.\";assert(re.search('print\\s*\\(\\s*(a\\s*\\+\\s*b|b\\s*\\+\\s*a)\\s*\\)', code)), \"You should use `print(a + b)` in your code.\";HTML('''<br><div style=\"font-family:Monospace\"><span style=\"color: #b30000\"id=\"error\"></span><span id=\"message\"></span></div><script type=\"text/javascript\">const output=document.getElementsByTagName('pre')[0];function appendMessage(message, color){const el1=document.getElementById('error');const el2=document.getElementById('message');if(color === '#000')el1.innerText+='Assertion Error';el2.style.color=color;el2.innerText+=message}try{if(!/^106\\s*$/.test(output.innerText))throw\": Your code should only print `106`\";appendMessage('All Tests Passed!','#005a00')}catch(e){appendMessage(e,'#000')}</script>''')"
      ],
      "execution_count": null,
      "outputs": []
    },
    {
      "cell_type": "markdown",
      "metadata": {
        "id": "HGTK-nC0ma9J"
      },
      "source": [
        "# Step 6 - Add New Cells"
      ]
    },
    {
      "cell_type": "markdown",
      "metadata": {
        "id": "xM-SW1k0tS3c"
      },
      "source": [
        "You can add a cell by moving your mouse in between two cells and clicking the `+ Code` or `+ Text` buttons. Add a `Text` cell below this cell with the text `My first text cell`. Below that, add a `Code` cell with `# My first code cell` in it.\n",
        "\n",
        "Tip: You can delete a cell by right clicking on it and clicking `Delete Cell`\n"
      ]
    },
    {
      "cell_type": "code",
      "metadata": {
        "id": "WNFLcKtCmm7g"
      },
      "source": [
        "# Run this cell to run the tests\n",
        "# Do not change code in this cell\n",
        "from IPython.display import HTML;from google.colab import _message;import re;nb = _message.blocking_request('get_ipynb', timeout_sec=20);cells = nb['ipynb']['cells'];index = 0;\n",
        "for i, j in enumerate(cells):\n",
        "  if j['source'][0] == '# Lesson 6 - Add New Cells':\n",
        "    index = i\n",
        "assert(cells[index+2]['cell_type'] == 'markdown'), \"The cell below the instructions should be a 'text' cell\";assert(re.search('^My first text cell$', cells[index + 2]['source'][0])), \"The cell below the instructions should only contain the text 'My first text cell'\";assert(cells[index+3]['cell_type'] == 'code'), \"The cell two below the instructions should be a 'code' cell\";assert(re.search('^# My first code cell$', cells[index + 3]['source'][0])), \"The cell two below the instructions should only contain the text '# My first code cell'\";HTML('''<br><div style=\"font-family:Monospace\"><span id=\"message\"></span></div><script type=\"text/javascript\">const el=document.getElementById('message');el.style.color='#005a00';el.innerText+='All Tests Passed!'</script>''')"
      ],
      "execution_count": null,
      "outputs": []
    },
    {
      "cell_type": "markdown",
      "metadata": {
        "id": "s7BhqbiOgSVV"
      },
      "source": [
        "# Step 7 - Delete Cells"
      ]
    },
    {
      "cell_type": "markdown",
      "metadata": {
        "id": "Q8yhE643gZNz"
      },
      "source": [
        "You will mostly not need to add or delete cells throughout these lessons, but it can happened accidentally. You should know how to work with them. You can delete a cell by right clicking on it, and clicking `Delete Cell`. Delete the two cells that ask to be deleted.\n",
        "\n",
        "Tip: If you accidentally delete a cell with intructions or tests, you can undo it with `cmd/ctrl + m + z`. If all else fails, copy the cell from original notebook and paste it into this one."
      ]
    },
    {
      "cell_type": "markdown",
      "metadata": {
        "id": "V5SpWgkmaYSk"
      },
      "source": [
        "Delete this text cell"
      ]
    },
    {
      "cell_type": "code",
      "metadata": {
        "id": "1wisQfKaaZ3L"
      },
      "source": [
        "# Delete this code cell"
      ],
      "execution_count": null,
      "outputs": []
    },
    {
      "cell_type": "code",
      "metadata": {
        "id": "4zNmWS5Os7v8"
      },
      "source": [
        "# Run this cell to run the tests\n",
        "# Do not change code in this cell\n",
        "from IPython.display import HTML;from google.colab import _message;import re;nb = _message.blocking_request('get_ipynb', timeout_sec=20);cells = nb['ipynb']['cells'];index = 0;\n",
        "for i, j in enumerate(cells):\n",
        "  if j['source'][0] == '# Lesson 7 - Delete Cells':\n",
        "    index = i\n",
        "assert(re.search('^You will mostly not need to add or delete cells', cells[index + 1]['source'][0])), \"The first cell in this lesson should begin with 'You will mostly not need to add or delete'\";assert(re.search('^# Run this cell to run the tests', cells[index + 2]['source'][0])), \"The second cell in this lesson should begin with '# Run this cell to run the tests'\";assert(re.search('^# Lesson 8', cells[index + 3]['source'][0])), \"The first cell after this lesson should begin with '# Lesson 8'\";HTML('''<br><div style=\"font-family:Monospace\"><span id=\"message\"></span></div><script type=\"text/javascript\">const el=document.getElementById('message');el.style.color='#005a00';el.innerText+='All Tests Passed!'</script>''')"
      ],
      "execution_count": null,
      "outputs": []
    },
    {
      "cell_type": "markdown",
      "metadata": {
        "id": "L3bbfJGrYWwt"
      },
      "source": [
        "# Step 8 - Subtraction"
      ]
    },
    {
      "cell_type": "markdown",
      "metadata": {
        "id": "ymD0OLie-00t"
      },
      "source": [
        "Subtracting numbers is also known as the difference. Use `-` to print the difference between `c` and `d`.\n"
      ]
    },
    {
      "cell_type": "code",
      "metadata": {
        "id": "TNEhDM9Q_MRT"
      },
      "source": [
        "c = 17\n",
        "d = 3\n",
        "# Do not change above this line\n",
        "\n",
        "\n",
        "\n",
        "# Do not change this line or below\n",
        "from IPython.display import HTML;import re;code = In[-1].split('# Do not change this line or below')[0];assert(re.search('print\\s*\\(.*\\)', code)), \"You should use a `print()` statment in your code.\";assert(re.search('print\\s*\\(\\s*c\\s*\\-\\s*d\\s*\\)', code)), \"You should use `print(c - d)` in your code.\";HTML('''<br><div style=\"font-family:Monospace\"><span style=\"color: #b30000\"id=\"error\"></span><span id=\"message\"></span></div><script type=\"text/javascript\">const output=document.getElementsByTagName('pre')[0];function appendMessage(message, color){const el1=document.getElementById('error');const el2=document.getElementById('message');if(color === '#000')el1.innerText+='Assertion Error';el2.style.color=color;el2.innerText+=message}try{if(!/^14\\s*$/.test(output.innerText))throw\": Your code should only print `14`\";appendMessage('All Tests Passed!','#005a00')}catch(e){appendMessage(e,'#000')}</script>''')"
      ],
      "execution_count": null,
      "outputs": []
    },
    {
      "cell_type": "markdown",
      "metadata": {
        "id": "ztbYmNSJbcZF"
      },
      "source": [
        "# Step 9 - Learn the Runtime"
      ]
    },
    {
      "cell_type": "markdown",
      "metadata": {
        "id": "OKO9cGnSe5cJ"
      },
      "source": [
        "Variables, functions, imports, and anything else created from running a cell will be stored in memory for the duration a notebook remains running (its *runtime*). Print the `c` and `d` variables created in the last lesson using two print statements.\n",
        "\n",
        "**Note:** If your notebook has disconnect since you finished Lesson 8, run the code cell from that lesson again first. "
      ]
    },
    {
      "cell_type": "code",
      "metadata": {
        "id": "ZzuLfkP-cpT2"
      },
      "source": [
        "\n",
        "\n",
        "\n",
        "\n",
        "# Do not change this line or below\n",
        "from IPython.display import HTML;import re;code = In[-1].split('# Do not change this line or below')[0];assert(re.search('print\\s*\\(\\s*c\\s*\\)', code)), \"You should use `print(c)` in your code\";assert(re.search('print\\s*\\(\\s*d\\s*\\)', code)), \"You should use `print(d)` in your code\";assert(re.search('c\\s*=', code) == None), \"You should not recreate the `c` variable in this cell\";assert(re.search('d\\s*=', code) == None), \"You should not recreate the `d` variable in this cell\";assert(c == 17), \"`c` should equal 17\";assert(d == 3), \"`d` should equal 3\";HTML('''<br><div style=\"font-family:Monospace\"><span id=\"message\"></span></div><script type=\"text/javascript\">const el=document.getElementById('message');el.style.color='#005a00';el.innerText+='All Tests Passed!'</script>''')"
      ],
      "execution_count": null,
      "outputs": []
    },
    {
      "cell_type": "markdown",
      "metadata": {
        "id": "Zoa8DDaRbh3e"
      },
      "source": [
        "# Step 10 - Reset the Runtime"
      ]
    },
    {
      "cell_type": "markdown",
      "metadata": {
        "id": "u2mJPdNWhNqu"
      },
      "source": [
        "The two variables you created when running the cell in Lesson 8, were available in Lesson 9. Find the `Runtime` menu button at the top of the notebook and click the `Restart runtime` option. Run the code cell below after that."
      ]
    },
    {
      "cell_type": "code",
      "metadata": {
        "id": "5qk7REeGcxtV"
      },
      "source": [
        "# Do not change this line or below\n",
        "from IPython.display import HTML;import re;code = In[-1].split('# Do not change this line or below')[0];assert(Out == {}), \"You should reset the runtime for this notebook\";HTML('''<br><div style=\"font-family:Monospace\"><span id=\"message\"></span></div><script type=\"text/javascript\">const el=document.getElementById('message');el.style.color='#005a00';el.innerText+='All Tests Passed!'</script>''')"
      ],
      "execution_count": null,
      "outputs": []
    },
    {
      "cell_type": "markdown",
      "metadata": {
        "id": "QDctaB0xdRiV"
      },
      "source": [
        "# Step 11 - Run Previous Cells"
      ]
    },
    {
      "cell_type": "markdown",
      "metadata": {
        "id": "VBcfYIvppVMZ"
      },
      "source": [
        "The code cell below prints `c` and `d`. Run the cell **now** to see what happens after you reset the runtime. You should see an error, they are no longer in the notebook's memory.\n",
        "\n",
        "After you see the error, run the code cell in Lesson 8 again to recreate the two variables. After that, come back and run this one again."
      ]
    },
    {
      "cell_type": "code",
      "metadata": {
        "id": "QqTAEffMdbp2"
      },
      "source": [
        "print(c)\n",
        "print(d)\n",
        "\n",
        "\n",
        "# Do not change this line or below\n",
        "from IPython.display import HTML;import re;code = In[-1].split('# Do not change this line or below')[0];assert(re.search('print\\s*\\(\\s*c\\s*\\)', code)), \"You should use `print(c)` in your code\";assert(re.search('print\\s*\\(\\s*d\\s*\\)', code)), \"You should use `print(d)` in your code\";assert(re.search('c\\s*=', code) == None), \"You should not recreate the `c` variable in this cell\";assert(re.search('d\\s*=', code) == None), \"You should not recreate the `d` variable in this cell\";assert(c == 17), \"`c` should equal 17\";assert(d == 3), \"`d` should equal 3\";HTML('''<br><div style=\"font-family:Monospace\"><span id=\"message\"></span></div><script type=\"text/javascript\">const el=document.getElementById('message');el.style.color='#005a00';el.innerText+='All Tests Passed!'</script>''')"
      ],
      "execution_count": null,
      "outputs": []
    },
    {
      "cell_type": "markdown",
      "metadata": {
        "id": "eucSg7mm4bMj"
      },
      "source": [
        "# Step 12 - Multiplication"
      ]
    },
    {
      "cell_type": "markdown",
      "metadata": {
        "id": "2eCyqkoXsusK"
      },
      "source": [
        "The sidebar on the left of the screen has a few buttons. The one at the top shows the `Table of contents`. You can click it to see an overview of the notebook and jump to a lesson.\n",
        "\n",
        "The result of multiplying two numbers is known as the `product`. Use `*` print the product of `e` and `f`."
      ]
    },
    {
      "cell_type": "code",
      "metadata": {
        "id": "3MBYR2qtsvDT"
      },
      "source": [
        "e = 15\n",
        "f = 16\n",
        "# Do not change above this line\n",
        "\n",
        "\n",
        "\n",
        "# Do not change this line or below\n",
        "from IPython.display import HTML;import re;code = In[-1].split('# Do not change this line or below')[0];assert(re.search('print\\s*\\(.*\\)', code)), \"You should use a `print()` statment in your code.\";assert(re.search('print\\s*\\(\\s*(e\\s*\\*\\s*f|f\\s*\\*\\s*e)\\s*\\)', code)), \"You should use `print(e * f)` in your code.\";HTML('''<br><div style=\"font-family:Monospace\"><span style=\"color: #b30000\"id=\"error\"></span><span id=\"message\"></span></div><script type=\"text/javascript\">const output=document.getElementsByTagName('pre')[0];function appendMessage(message, color){const el1=document.getElementById('error');const el2=document.getElementById('message');if(color === '#000')el1.innerText+='Assertion Error';el2.style.color=color;el2.innerText+=message}try{if(!/^240\\s*$/.test(output.innerText))throw\": Your code should only print `240`\";appendMessage('All Tests Passed!','#005a00')}catch(e){appendMessage(e,'#000')}</script>''')"
      ],
      "execution_count": null,
      "outputs": []
    },
    {
      "cell_type": "markdown",
      "metadata": {
        "id": "IgXfnu3F4fF1"
      },
      "source": [
        "# Step 13 - Division"
      ]
    },
    {
      "cell_type": "markdown",
      "metadata": {
        "id": "ifmntADgufn7"
      },
      "source": [
        "You can hide the notebook menu with the caret icon at the top right.\n",
        "\n",
        "The result of dividing one number by another is known as the `quotient`. Use `/` print the quotient of `g` divided by `h`."
      ]
    },
    {
      "cell_type": "code",
      "metadata": {
        "id": "R95pLq_ou1M5"
      },
      "source": [
        "g = 24\n",
        "h = 4\n",
        "# Do not change above this line\n",
        "\n",
        "\n",
        "\n",
        "# Do not change this line or below\n",
        "from IPython.display import HTML;import re;code = In[-1].split('# Do not change this line or below')[0];assert(re.search('print\\s*\\(.*\\)', code)), \"You should use a `print()` statment in your code.\";assert(re.search('print\\s*\\(\\s*g\\s*/\\s*h\\s*\\)', code)), \"You should use `print(g / h)` in your code.\";HTML('''<br><div style=\"font-family:Monospace\"><span style=\"color: #b30000\"id=\"error\"></span><span id=\"message\"></span></div><script type=\"text/javascript\">const output=document.getElementsByTagName('pre')[0];function appendMessage(message, color){const el1=document.getElementById('error');const el2=document.getElementById('message');if(color === '#000')el1.innerText+='Assertion Error';el2.style.color=color;el2.innerText+=message}try{if(!/^6\\.0\\s*$/.test(output.innerText))throw\": Your code should only print `6.0`\";appendMessage('All Tests Passed!','#005a00')}catch(e){appendMessage(e,'#000')}</script>''')"
      ],
      "execution_count": null,
      "outputs": []
    },
    {
      "cell_type": "markdown",
      "metadata": {
        "id": "Mcreu4IYzJek"
      },
      "source": [
        "# Step 14 - Get User Input"
      ]
    },
    {
      "cell_type": "markdown",
      "metadata": {
        "id": "dFgTc90zzlCC"
      },
      "source": [
        "You can get input from a user with `variable_name = input('text_to_prompt_user_with')`. Get input from the user, prompting them with `Enter a positive integer:`, and set the value into a variable named `strA`. Run the code and enter number when it asks."
      ]
    },
    {
      "cell_type": "code",
      "metadata": {
        "id": "VH6NEs-qzl3j"
      },
      "source": [
        "from IPython import get_ipython;get_ipython().magic('reset -sf')\n",
        "# Do not change above this line\n",
        "\n",
        "\n",
        "\n",
        "# Do not change this line or below\n",
        "from IPython.display import HTML;import re;code = In[-1].split('# Do not change this line or below')[0];assert 'strA' in locals(), \"You should create a 'strA' variable\";assert(re.search(\"input\\s*\\(\\s*'Enter a positive integer:\\s*'\\s*\\)\", code)), \"You should get input with `input('Enter a positive integer: ')`\";assert(re.search(\"strA\\s*=\\s*input\", code)), \"You should set the user input to `strA` with `strA = input(...)`\";assert(re.search(\"^\\d+$\", strA)), \"You should input a positive integer when asked\";HTML('''<br><div style=\"font-family:Monospace\"><span id=\"message\"></span></div><script type=\"text/javascript\">const el=document.getElementById('message');el.style.color='#005a00';el.innerText+='All Tests Passed!'</script>''')"
      ],
      "execution_count": null,
      "outputs": []
    },
    {
      "cell_type": "markdown",
      "metadata": {
        "id": "R2gdiadHzNwN"
      },
      "source": [
        "# Step 15 - Cast User Input"
      ]
    },
    {
      "cell_type": "markdown",
      "metadata": {
        "id": "AFkQ7ZeXCAW-"
      },
      "source": [
        "User input comes in as a string. You need to cast it as an integer or  float before doing any math. You can do that with `new_variable = int(string)`. Cast `strA` as a new integer, set it to a variable named `intA`. Do the same for `strB`, except use `intB` as the new variable name."
      ]
    },
    {
      "cell_type": "code",
      "metadata": {
        "id": "cS8N8U9TCCVf"
      },
      "source": [
        "strA = input('Enter a positive integer: ')\n",
        "strB = input('Enter another one: ')\n",
        "# Do not change above this line\n",
        "\n",
        "\n",
        "\n",
        "# Do not change this line or below\n",
        "from IPython.display import HTML;import re;code = In[-1].split('# Do not change this line or below')[0];assert(re.search(\"intA\\s*=\\s*int\\s*\\(\\s*strA\\s*\\)\", code)), \"You should cast `strA` as an integer with `intA = int(strA)`\";assert(re.search(\"intB\\s*=\\s*int\\s*\\(\\s*strB\\s*\\)\", code)), \"You should cast `strB` as an integer with `intB = int(strB)`\";HTML('''<br><div style=\"font-family:Monospace\"><span id=\"message\"></span></div><script type=\"text/javascript\">const el=document.getElementById('message');el.style.color='#005a00';el.innerText+='All Tests Passed!'</script>''')"
      ],
      "execution_count": null,
      "outputs": []
    },
    {
      "cell_type": "markdown",
      "metadata": {
        "id": "FEP_QDGEzUHB"
      },
      "source": [
        "# Step 16 - Complete the Formulas"
      ]
    },
    {
      "cell_type": "markdown",
      "metadata": {
        "id": "yXFwnUgpFuUi"
      },
      "source": [
        "When printing a mix of integers and strings, you need to separate each type with a comma (`,`) and surround the strings with quotes (`'`). Here's an example: `print('string',int)`\n",
        "\n",
        "Use the four basic operators (`+`, `-`, `*`, `/`), and the two integer variables to make all `print` statements true."
      ]
    },
    {
      "cell_type": "code",
      "metadata": {
        "id": "QyVhqTMcFvdi"
      },
      "source": [
        "strA = input('Enter a positive integer: ')\n",
        "strB = input('Enter another one: ')\n",
        "intA = int(strA)\n",
        "intB = int(strB)\n",
        "# Do not change above this line\n",
        "\n",
        "print(intA,'+',intB,'=')\n",
        "print(intA,'-',intB,'=')\n",
        "print(intA,'*',intB,'=')\n",
        "print(intA,'/',intB,'=')\n",
        "\n",
        "# Do not change this line or below\n",
        "from IPython.display import HTML;import re;code = In[-1].split('# Do not change this line or below')[0];assert(re.search(\"print\\s*\\(\\s*intA\\s*,\\'\\s*\\+\\s*\\'\\s*,\\s*intB\\s*,\\s*\\'\\s*=\\s*\\'\\s*,\\s*intA\\s*\\+\\s*intB\", code)), \"You should use `intA + intB` to calculate the sum of the two variables\";assert(re.search(\"print\\s*\\(\\s*intA\\s*,\\'\\s*\\-\\s*\\'\\s*,\\s*intB\\s*,\\s*\\'\\s*=\\s*\\'\\s*,\\s*intA\\s*\\-\\s*intB\", code)), \"You should use `intA - intB` to calculate the difference between the two variables\";assert(re.search(\"print\\s*\\(\\s*intA\\s*,\\'\\s*\\*\\s*\\'\\s*,\\s*intB\\s*,\\s*\\'\\s*=\\s*\\'\\s*,\\s*intA\\s*\\*\\s*intB\", code)), \"You should use `intA * intB` to calculate the product of the two variables\";assert(re.search(\"print\\s*\\(\\s*intA\\s*,\\'\\s*\\/\\s*\\'\\s*,\\s*intB\\s*,\\s*\\'\\s*=\\s*\\'\\s*,\\s*intA\\s*\\/\\s*intB\", code)), \"You should use `intA / intB` to calculate the quotient of the two variables\";HTML('''<br><div style=\"font-family:Monospace\"><span id=\"message\"></span></div><script type=\"text/javascript\">const el=document.getElementById('message');el.style.color='#005a00';el.innerText+='All Tests Passed!'</script>''')"
      ],
      "execution_count": null,
      "outputs": []
    }
  ]
}